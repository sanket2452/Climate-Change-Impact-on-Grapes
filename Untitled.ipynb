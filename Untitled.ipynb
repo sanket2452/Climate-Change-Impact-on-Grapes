{
 "cells": [
  {
   "cell_type": "code",
   "execution_count": 2,
   "id": "3c80ec26-a38a-4186-995b-1b51a0839f20",
   "metadata": {},
   "outputs": [
    {
     "name": "stdout",
     "output_type": "stream",
     "text": [
      "Linear Regression\n"
     ]
    }
   ],
   "source": [
    "print(\"Linear Regression\")"
   ]
  },
  {
   "cell_type": "code",
   "execution_count": 3,
   "id": "f7f0525a-2a40-4f24-8847-88fd12a3d6b2",
   "metadata": {},
   "outputs": [],
   "source": [
    "import pandas as pd\n",
    "import numpy as np\n",
    "import matplotlib.pyplot as plt"
   ]
  },
  {
   "cell_type": "code",
   "execution_count": 4,
   "id": "6ea0640d-c703-4856-9d13-c9a32a0e940e",
   "metadata": {},
   "outputs": [],
   "source": [
    "data = pd.read_excel(\"Data7Pranav.xlsx\")"
   ]
  },
  {
   "cell_type": "code",
   "execution_count": 5,
   "id": "54277591-ee44-4ffa-bde1-d86766f021fb",
   "metadata": {},
   "outputs": [
    {
     "data": {
      "text/html": [
       "<div>\n",
       "<style scoped>\n",
       "    .dataframe tbody tr th:only-of-type {\n",
       "        vertical-align: middle;\n",
       "    }\n",
       "\n",
       "    .dataframe tbody tr th {\n",
       "        vertical-align: top;\n",
       "    }\n",
       "\n",
       "    .dataframe thead th {\n",
       "        text-align: right;\n",
       "    }\n",
       "</style>\n",
       "<table border=\"1\" class=\"dataframe\">\n",
       "  <thead>\n",
       "    <tr style=\"text-align: right;\">\n",
       "      <th></th>\n",
       "      <th>Airtemp</th>\n",
       "      <th>Rel.Hum</th>\n",
       "      <th>Rain</th>\n",
       "      <th>W.Speed</th>\n",
       "      <th>leaf wetness hr.</th>\n",
       "      <th>Bacterial leaf spot</th>\n",
       "      <th>Downy mildew</th>\n",
       "      <th>Powdery mildew</th>\n",
       "      <th>Alternariablight</th>\n",
       "      <th>Rhizopusrot</th>\n",
       "      <th>Girdle beetle</th>\n",
       "      <th>Normal Condition</th>\n",
       "    </tr>\n",
       "  </thead>\n",
       "  <tbody>\n",
       "    <tr>\n",
       "      <th>0</th>\n",
       "      <td>25.7</td>\n",
       "      <td>76.0</td>\n",
       "      <td>0.0</td>\n",
       "      <td>0.0</td>\n",
       "      <td>0.42</td>\n",
       "      <td>0</td>\n",
       "      <td>0</td>\n",
       "      <td>0</td>\n",
       "      <td>0</td>\n",
       "      <td>0</td>\n",
       "      <td>1</td>\n",
       "      <td>0</td>\n",
       "    </tr>\n",
       "    <tr>\n",
       "      <th>1</th>\n",
       "      <td>24.1</td>\n",
       "      <td>83.0</td>\n",
       "      <td>0.2</td>\n",
       "      <td>0.1</td>\n",
       "      <td>14.33</td>\n",
       "      <td>1</td>\n",
       "      <td>0</td>\n",
       "      <td>0</td>\n",
       "      <td>0</td>\n",
       "      <td>0</td>\n",
       "      <td>0</td>\n",
       "      <td>0</td>\n",
       "    </tr>\n",
       "    <tr>\n",
       "      <th>2</th>\n",
       "      <td>24.5</td>\n",
       "      <td>83.0</td>\n",
       "      <td>0.6</td>\n",
       "      <td>0.1</td>\n",
       "      <td>11.33</td>\n",
       "      <td>1</td>\n",
       "      <td>0</td>\n",
       "      <td>0</td>\n",
       "      <td>0</td>\n",
       "      <td>0</td>\n",
       "      <td>0</td>\n",
       "      <td>1</td>\n",
       "    </tr>\n",
       "    <tr>\n",
       "      <th>3</th>\n",
       "      <td>23.4</td>\n",
       "      <td>85.0</td>\n",
       "      <td>1.2</td>\n",
       "      <td>0.1</td>\n",
       "      <td>11.42</td>\n",
       "      <td>0</td>\n",
       "      <td>0</td>\n",
       "      <td>0</td>\n",
       "      <td>0</td>\n",
       "      <td>0</td>\n",
       "      <td>0</td>\n",
       "      <td>0</td>\n",
       "    </tr>\n",
       "    <tr>\n",
       "      <th>4</th>\n",
       "      <td>25.0</td>\n",
       "      <td>78.0</td>\n",
       "      <td>0.0</td>\n",
       "      <td>0.1</td>\n",
       "      <td>8.50</td>\n",
       "      <td>0</td>\n",
       "      <td>0</td>\n",
       "      <td>0</td>\n",
       "      <td>0</td>\n",
       "      <td>0</td>\n",
       "      <td>1</td>\n",
       "      <td>0</td>\n",
       "    </tr>\n",
       "  </tbody>\n",
       "</table>\n",
       "</div>"
      ],
      "text/plain": [
       "   Airtemp  Rel.Hum  Rain  W.Speed  leaf wetness hr.  Bacterial leaf spot   \n",
       "0     25.7     76.0   0.0      0.0              0.42                    0  \\\n",
       "1     24.1     83.0   0.2      0.1             14.33                    1   \n",
       "2     24.5     83.0   0.6      0.1             11.33                    1   \n",
       "3     23.4     85.0   1.2      0.1             11.42                    0   \n",
       "4     25.0     78.0   0.0      0.1              8.50                    0   \n",
       "\n",
       "   Downy mildew  Powdery mildew  Alternariablight  Rhizopusrot  Girdle beetle   \n",
       "0             0               0                 0            0              1  \\\n",
       "1             0               0                 0            0              0   \n",
       "2             0               0                 0            0              0   \n",
       "3             0               0                 0            0              0   \n",
       "4             0               0                 0            0              1   \n",
       "\n",
       "   Normal Condition  \n",
       "0                 0  \n",
       "1                 0  \n",
       "2                 1  \n",
       "3                 0  \n",
       "4                 0  "
      ]
     },
     "execution_count": 5,
     "metadata": {},
     "output_type": "execute_result"
    }
   ],
   "source": [
    "data.head()"
   ]
  },
  {
   "cell_type": "code",
   "execution_count": 6,
   "id": "23f6e3d3-9976-4d8b-b34e-d0fe0a2267df",
   "metadata": {},
   "outputs": [
    {
     "name": "stdout",
     "output_type": "stream",
     "text": [
      "<class 'pandas.core.frame.DataFrame'>\n",
      "RangeIndex: 3520 entries, 0 to 3519\n",
      "Data columns (total 12 columns):\n",
      " #   Column               Non-Null Count  Dtype  \n",
      "---  ------               --------------  -----  \n",
      " 0   Airtemp              3520 non-null   float64\n",
      " 1   Rel.Hum              3520 non-null   float64\n",
      " 2   Rain                 3520 non-null   float64\n",
      " 3   W.Speed              3520 non-null   float64\n",
      " 4   leaf wetness hr.     3520 non-null   float64\n",
      " 5   Bacterial leaf spot  3520 non-null   int64  \n",
      " 6   Downy mildew         3520 non-null   int64  \n",
      " 7   Powdery mildew       3520 non-null   int64  \n",
      " 8   Alternariablight     3520 non-null   int64  \n",
      " 9   Rhizopusrot          3520 non-null   int64  \n",
      " 10  Girdle beetle        3520 non-null   int64  \n",
      " 11  Normal Condition     3520 non-null   int64  \n",
      "dtypes: float64(5), int64(7)\n",
      "memory usage: 330.1 KB\n"
     ]
    }
   ],
   "source": [
    "data.info()"
   ]
  },
  {
   "cell_type": "code",
   "execution_count": 9,
   "id": "4aed0b16-a7f9-4393-96ac-51ad2a04fd87",
   "metadata": {},
   "outputs": [],
   "source": [
    "# data.describe()\n",
    "# data.value_counts()"
   ]
  },
  {
   "cell_type": "code",
   "execution_count": 10,
   "id": "a55ba480-4f4a-4b39-871b-05f7f19bb57d",
   "metadata": {},
   "outputs": [
    {
     "data": {
      "text/plain": [
       "Index(['Airtemp', 'Rel.Hum', 'Rain', 'W.Speed', 'leaf wetness hr.',\n",
       "       'Bacterial leaf spot', 'Downy mildew', 'Powdery mildew',\n",
       "       'Alternariablight', 'Rhizopusrot', 'Girdle beetle', 'Normal Condition'],\n",
       "      dtype='object')"
      ]
     },
     "execution_count": 10,
     "metadata": {},
     "output_type": "execute_result"
    }
   ],
   "source": [
    "data.columns\n"
   ]
  },
  {
   "cell_type": "code",
   "execution_count": 11,
   "id": "e43e6613-9356-4594-a8ca-a70a272cecbf",
   "metadata": {},
   "outputs": [],
   "source": [
    "X = data[['Airtemp', 'Rel.Hum', 'Rain', 'W.Speed', 'leaf wetness hr.']]\n",
    "y = data[['Bacterial leaf spot', 'Downy mildew', 'Powdery mildew', 'Alternariablight', 'Rhizopusrot', 'Girdle beetle', 'Normal Condition']]"
   ]
  },
  {
   "cell_type": "code",
   "execution_count": 13,
   "id": "9841c319-d30f-491d-9401-74f0d4682af0",
   "metadata": {},
   "outputs": [
    {
     "data": {
      "text/html": [
       "<div>\n",
       "<style scoped>\n",
       "    .dataframe tbody tr th:only-of-type {\n",
       "        vertical-align: middle;\n",
       "    }\n",
       "\n",
       "    .dataframe tbody tr th {\n",
       "        vertical-align: top;\n",
       "    }\n",
       "\n",
       "    .dataframe thead th {\n",
       "        text-align: right;\n",
       "    }\n",
       "</style>\n",
       "<table border=\"1\" class=\"dataframe\">\n",
       "  <thead>\n",
       "    <tr style=\"text-align: right;\">\n",
       "      <th></th>\n",
       "      <th>Airtemp</th>\n",
       "      <th>Rel.Hum</th>\n",
       "      <th>Rain</th>\n",
       "      <th>W.Speed</th>\n",
       "      <th>leaf wetness hr.</th>\n",
       "    </tr>\n",
       "  </thead>\n",
       "  <tbody>\n",
       "    <tr>\n",
       "      <th>0</th>\n",
       "      <td>25.7</td>\n",
       "      <td>76.0</td>\n",
       "      <td>0.0</td>\n",
       "      <td>0.0</td>\n",
       "      <td>0.42</td>\n",
       "    </tr>\n",
       "    <tr>\n",
       "      <th>1</th>\n",
       "      <td>24.1</td>\n",
       "      <td>83.0</td>\n",
       "      <td>0.2</td>\n",
       "      <td>0.1</td>\n",
       "      <td>14.33</td>\n",
       "    </tr>\n",
       "    <tr>\n",
       "      <th>2</th>\n",
       "      <td>24.5</td>\n",
       "      <td>83.0</td>\n",
       "      <td>0.6</td>\n",
       "      <td>0.1</td>\n",
       "      <td>11.33</td>\n",
       "    </tr>\n",
       "    <tr>\n",
       "      <th>3</th>\n",
       "      <td>23.4</td>\n",
       "      <td>85.0</td>\n",
       "      <td>1.2</td>\n",
       "      <td>0.1</td>\n",
       "      <td>11.42</td>\n",
       "    </tr>\n",
       "    <tr>\n",
       "      <th>4</th>\n",
       "      <td>25.0</td>\n",
       "      <td>78.0</td>\n",
       "      <td>0.0</td>\n",
       "      <td>0.1</td>\n",
       "      <td>8.50</td>\n",
       "    </tr>\n",
       "  </tbody>\n",
       "</table>\n",
       "</div>"
      ],
      "text/plain": [
       "   Airtemp  Rel.Hum  Rain  W.Speed  leaf wetness hr.\n",
       "0     25.7     76.0   0.0      0.0              0.42\n",
       "1     24.1     83.0   0.2      0.1             14.33\n",
       "2     24.5     83.0   0.6      0.1             11.33\n",
       "3     23.4     85.0   1.2      0.1             11.42\n",
       "4     25.0     78.0   0.0      0.1              8.50"
      ]
     },
     "execution_count": 13,
     "metadata": {},
     "output_type": "execute_result"
    }
   ],
   "source": [
    "X.head()"
   ]
  },
  {
   "cell_type": "code",
   "execution_count": 14,
   "id": "3136d187-d818-4e44-9382-1ee39caa65f0",
   "metadata": {},
   "outputs": [
    {
     "data": {
      "text/html": [
       "<div>\n",
       "<style scoped>\n",
       "    .dataframe tbody tr th:only-of-type {\n",
       "        vertical-align: middle;\n",
       "    }\n",
       "\n",
       "    .dataframe tbody tr th {\n",
       "        vertical-align: top;\n",
       "    }\n",
       "\n",
       "    .dataframe thead th {\n",
       "        text-align: right;\n",
       "    }\n",
       "</style>\n",
       "<table border=\"1\" class=\"dataframe\">\n",
       "  <thead>\n",
       "    <tr style=\"text-align: right;\">\n",
       "      <th></th>\n",
       "      <th>Bacterial leaf spot</th>\n",
       "      <th>Downy mildew</th>\n",
       "      <th>Powdery mildew</th>\n",
       "      <th>Alternariablight</th>\n",
       "      <th>Rhizopusrot</th>\n",
       "      <th>Girdle beetle</th>\n",
       "      <th>Normal Condition</th>\n",
       "    </tr>\n",
       "  </thead>\n",
       "  <tbody>\n",
       "    <tr>\n",
       "      <th>0</th>\n",
       "      <td>0</td>\n",
       "      <td>0</td>\n",
       "      <td>0</td>\n",
       "      <td>0</td>\n",
       "      <td>0</td>\n",
       "      <td>1</td>\n",
       "      <td>0</td>\n",
       "    </tr>\n",
       "    <tr>\n",
       "      <th>1</th>\n",
       "      <td>1</td>\n",
       "      <td>0</td>\n",
       "      <td>0</td>\n",
       "      <td>0</td>\n",
       "      <td>0</td>\n",
       "      <td>0</td>\n",
       "      <td>0</td>\n",
       "    </tr>\n",
       "    <tr>\n",
       "      <th>2</th>\n",
       "      <td>1</td>\n",
       "      <td>0</td>\n",
       "      <td>0</td>\n",
       "      <td>0</td>\n",
       "      <td>0</td>\n",
       "      <td>0</td>\n",
       "      <td>1</td>\n",
       "    </tr>\n",
       "    <tr>\n",
       "      <th>3</th>\n",
       "      <td>0</td>\n",
       "      <td>0</td>\n",
       "      <td>0</td>\n",
       "      <td>0</td>\n",
       "      <td>0</td>\n",
       "      <td>0</td>\n",
       "      <td>0</td>\n",
       "    </tr>\n",
       "    <tr>\n",
       "      <th>4</th>\n",
       "      <td>0</td>\n",
       "      <td>0</td>\n",
       "      <td>0</td>\n",
       "      <td>0</td>\n",
       "      <td>0</td>\n",
       "      <td>1</td>\n",
       "      <td>0</td>\n",
       "    </tr>\n",
       "  </tbody>\n",
       "</table>\n",
       "</div>"
      ],
      "text/plain": [
       "   Bacterial leaf spot  Downy mildew  Powdery mildew  Alternariablight   \n",
       "0                    0             0               0                 0  \\\n",
       "1                    1             0               0                 0   \n",
       "2                    1             0               0                 0   \n",
       "3                    0             0               0                 0   \n",
       "4                    0             0               0                 0   \n",
       "\n",
       "   Rhizopusrot  Girdle beetle  Normal Condition  \n",
       "0            0              1                 0  \n",
       "1            0              0                 0  \n",
       "2            0              0                 1  \n",
       "3            0              0                 0  \n",
       "4            0              1                 0  "
      ]
     },
     "execution_count": 14,
     "metadata": {},
     "output_type": "execute_result"
    }
   ],
   "source": [
    "y.head()"
   ]
  },
  {
   "cell_type": "code",
   "execution_count": 15,
   "id": "007c3df1-3318-416c-8fdb-a44dcc0f27f3",
   "metadata": {},
   "outputs": [],
   "source": [
    "from sklearn.model_selection import train_test_split\n",
    "from sklearn.linear_model import LinearRegression"
   ]
  },
  {
   "cell_type": "code",
   "execution_count": 16,
   "id": "73075264-ea6d-4dae-aeaf-71d9bc7f782f",
   "metadata": {},
   "outputs": [],
   "source": [
    "X_train, X_test, y_train, y_test = train_test_split(X, y, test_size=0.2, random_state=42)"
   ]
  },
  {
   "cell_type": "code",
   "execution_count": 17,
   "id": "ab1b2474-3ee9-45a3-8fc3-becb97b1bbe2",
   "metadata": {},
   "outputs": [],
   "source": [
    "models = {}\n",
    "for column in y.columns:\n",
    "    model = LinearRegression()\n",
    "    model.fit(X_train, y_train[column])\n",
    "    models[column] = model"
   ]
  },
  {
   "cell_type": "code",
   "execution_count": 18,
   "id": "571b6340-ba3b-4d70-adf0-15872edb350b",
   "metadata": {},
   "outputs": [],
   "source": [
    "from sklearn.metrics import mean_squared_error"
   ]
  },
  {
   "cell_type": "code",
   "execution_count": 19,
   "id": "455f456d-d347-48d7-820a-9a379f88f079",
   "metadata": {},
   "outputs": [
    {
     "name": "stdout",
     "output_type": "stream",
     "text": [
      "Mean Squared Error for Bacterial leaf spot: 0.1056887162119442\n",
      "Mean Squared Error for Downy mildew: 0.03678270672191495\n",
      "Mean Squared Error for Powdery mildew: 0.011330015992376388\n",
      "Mean Squared Error for Alternariablight: 0.05036899930818448\n",
      "Mean Squared Error for Rhizopusrot: 0.034449348182111476\n",
      "Mean Squared Error for Girdle beetle: 0.18005811326149362\n",
      "Mean Squared Error for Normal Condition: 0.10595981184158353\n"
     ]
    }
   ],
   "source": [
    "for column, model in models.items():\n",
    "    y_pred = model.predict(X_test)\n",
    "    mse = mean_squared_error(y_test[column], y_pred)\n",
    "    print(f\"Mean Squared Error for {column}: {mse}\")"
   ]
  },
  {
   "cell_type": "code",
   "execution_count": 20,
   "id": "cdf649bb-d907-4c65-9b93-6689ffe6b0d8",
   "metadata": {},
   "outputs": [],
   "source": [
    "from sklearn.metrics import mean_squared_error, r2_score"
   ]
  },
  {
   "cell_type": "code",
   "execution_count": null,
   "id": "0f66c55e-432f-40a6-a068-35a04ee9df88",
   "metadata": {},
   "outputs": [],
   "source": []
  }
 ],
 "metadata": {
  "kernelspec": {
   "display_name": "Python 3 (ipykernel)",
   "language": "python",
   "name": "python3"
  },
  "language_info": {
   "codemirror_mode": {
    "name": "ipython",
    "version": 3
   },
   "file_extension": ".py",
   "mimetype": "text/x-python",
   "name": "python",
   "nbconvert_exporter": "python",
   "pygments_lexer": "ipython3",
   "version": "3.10.2"
  }
 },
 "nbformat": 4,
 "nbformat_minor": 5
}
